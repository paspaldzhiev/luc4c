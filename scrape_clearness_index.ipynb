{
 "cells": [
  {
   "cell_type": "code",
   "execution_count": 284,
   "metadata": {
    "collapsed": false
   },
   "outputs": [],
   "source": [
    "import os\n",
    "from bs4 import BeautifulSoup as bs\n",
    "import urllib2\n",
    "import numpy as np\n",
    "import netCDF4 as nc\n",
    "\n",
    "from IPython.display import display, clear_output\n",
    "import sys"
   ]
  },
  {
   "cell_type": "code",
   "execution_count": 264,
   "metadata": {
    "collapsed": true
   },
   "outputs": [],
   "source": [
    "#want to start at the top-left of the map\n",
    "lat = np.arange(-89.5,89.5+1,1)[::-1]\n",
    "lon = np.arange(-179.5,179.5+1,1)\n",
    "\n",
    "savedir = 'W:\\\\2 Clients\\\\European Commission\\\\LUC4C\\\\Implementation\\\\WP7\\\\LUC_albedo_cf\\\\Kt'"
   ]
  },
  {
   "cell_type": "code",
   "execution_count": 265,
   "metadata": {
    "collapsed": false
   },
   "outputs": [
    {
     "data": {
      "text/plain": [
       "<type 'netCDF4._netCDF4.Variable'>\n",
       "float32 kt_max(latitude, longitude, time)\n",
       "unlimited dimensions: \n",
       "current shape = (180, 360, 13)\n",
       "filling on, default _FillValue of 9.96920996839e+36 used"
      ]
     },
     "execution_count": 265,
     "metadata": {},
     "output_type": "execute_result"
    }
   ],
   "source": [
    "use = os.path.join(savedir, 'Kt.nc')\n",
    "\n",
    "tosave = nc.Dataset(use, 'w')\n",
    "tosave.createDimension('latitude', 180)\n",
    "tosave.createDimension('longitude', 360)\n",
    "tosave.createDimension('time', 13)\n",
    "tosave.createVariable('latitude', 'f4', ('latitude',))\n",
    "tosave.createVariable('longitude','f4', ('longitude',))\n",
    "tosave.createVariable('kt_mean', 'f4', ('latitude', 'longitude', 'time'))\n",
    "tosave.createVariable('kt_min', 'f4', ('latitude', 'longitude', 'time'))\n",
    "tosave.createVariable('kt_max', 'f4', ('latitude', 'longitude', 'time'))"
   ]
  },
  {
   "cell_type": "code",
   "execution_count": 266,
   "metadata": {
    "collapsed": false
   },
   "outputs": [],
   "source": [
    "tosave.variables['latitude'][:] = lat\n",
    "tosave.variables['longitude'][:] = lon\n",
    "\n",
    "tosave.description = \"\"\"Clearness index average/min/max scraped\n",
    "                        from//eosweb.larc.nasa.gov/cgi-bin/sse/grid.cgi\n",
    "                        time dimension is 12 months + year average\"\"\""
   ]
  },
  {
   "cell_type": "code",
   "execution_count": 286,
   "metadata": {
    "collapsed": true
   },
   "outputs": [],
   "source": [
    "def printer(line):\n",
    "    clear_output(wait=True)\n",
    "    print(line)\n",
    "    sys.stdout.flush()"
   ]
  },
  {
   "cell_type": "code",
   "execution_count": 287,
   "metadata": {
    "collapsed": false,
    "scrolled": true
   },
   "outputs": [
    {
     "name": "stdout",
     "output_type": "stream",
     "text": [
      "Saved for 1th time. Lat is -89.5, Lon in 179.5.\n",
      "dunzo\n"
     ]
    }
   ],
   "source": [
    "#sequence is average, min, max; 13 values each. want to assign to separate arrays\n",
    "\n",
    "isdone = 0\n",
    "counter = 0 \n",
    "for i,thelat in enumerate(lat):\n",
    "    for j,thelon in enumerate(lon):\n",
    "        url = 'https://eosweb.larc.nasa.gov/cgi-bin/sse/grid.cgi?&num=184094&lat={}&submit=Submit&hgt=100&veg=17&sitelev=&email=skip@larc.nasa.gov&p=grid_id&p=avg_kt&step=2&lon={}'.format(thelat,thelon)\n",
    "        page = urllib2.urlopen(url).read()\n",
    "        soup = bs(page)\n",
    "        printer(url)\n",
    "        for each in soup.find_all('td', {'align': 'center'}):\n",
    "            try:\n",
    "                if each.text == 'n/a':\n",
    "                    val = np.nan\n",
    "                else:\n",
    "                    val = float(each.text)\n",
    "                #expect 13 vals - 12 months + yearaverage\n",
    "                if counter <=13-1:  #substract 1, counter starts at zero due to zero indexing\n",
    "                    tosave.variables['kt_mean'][i,j,counter%13] = val\n",
    "                elif 13-1 < counter <= 26-1:\n",
    "                    tosave.variables['kt_min'][i,j,counter%13] = val\n",
    "                elif 26-1 < counter <= 39-1:\n",
    "                    tosave.variables['kt_max'][i,j,counter%13] = val\n",
    "                counter = counter + 1 # count until you get 12 months + yearavg, then reset\n",
    "            except Exception as ex:\n",
    "                pass\n",
    "        counter = 0\n",
    "        isdone = isdone + 1\n",
    "        \n",
    "        if isdone % 40 == 0:\n",
    "            tosave.close()\n",
    "            printer('Saved for {}th time. Lat is {}, Lon in {}.'.format((isdone)/40.,thelat, thelon))\n",
    "            tosave = nc.Dataset(use, 'r+')\n",
    "\n",
    "tosave.close()\n",
    "\n",
    "print 'dunzo'"
   ]
  },
  {
   "cell_type": "code",
   "execution_count": null,
   "metadata": {
    "collapsed": true
   },
   "outputs": [],
   "source": []
  }
 ],
 "metadata": {
  "kernelspec": {
   "display_name": "Python 2",
   "language": "python",
   "name": "python2"
  },
  "language_info": {
   "codemirror_mode": {
    "name": "ipython",
    "version": 2
   },
   "file_extension": ".py",
   "mimetype": "text/x-python",
   "name": "python",
   "nbconvert_exporter": "python",
   "pygments_lexer": "ipython2",
   "version": "2.7.11"
  }
 },
 "nbformat": 4,
 "nbformat_minor": 0
}
