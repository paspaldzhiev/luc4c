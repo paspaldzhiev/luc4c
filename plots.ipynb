{
 "cells": [
  {
   "cell_type": "code",
   "execution_count": 1,
   "metadata": {
    "collapsed": true
   },
   "outputs": [],
   "source": [
    "import netCDF4 as nc\n",
    "import matplotlib.pyplot as plt\n",
    "import numpy as np\n",
    "import cartopy as cp\n",
    "import os"
   ]
  },
  {
   "cell_type": "code",
   "execution_count": 2,
   "metadata": {
    "collapsed": false
   },
   "outputs": [],
   "source": [
    "import iris\n",
    "import iris.quickplot as qplt\n",
    "import iris.plot as iplt"
   ]
  },
  {
   "cell_type": "code",
   "execution_count": 3,
   "metadata": {
    "collapsed": true
   },
   "outputs": [],
   "source": [
    "path = 'W:\\\\2 Clients\\\\European Commission\\\\LUC4C\\\\Incoming Documents\\\\JRC_albedo_transitions_LUC\\\\Albedo.nc'"
   ]
  },
  {
   "cell_type": "code",
   "execution_count": 4,
   "metadata": {
    "collapsed": true
   },
   "outputs": [],
   "source": [
    "wf = nc.Dataset(path)"
   ]
  },
  {
   "cell_type": "code",
   "execution_count": 5,
   "metadata": {
    "collapsed": false
   },
   "outputs": [
    {
     "name": "stdout",
     "output_type": "stream",
     "text": [
      "<type 'netCDF4._netCDF4.Dataset'>\n",
      "root group (NETCDF3_CLASSIC data model, file format NETCDF3):\n",
      "    dimensions(sizes): lon(360), lat(180), mon(12), iTr(28)\n",
      "    variables(dimensions): float64 \u001b[4mlon\u001b[0m(lon), float64 \u001b[4mlat\u001b[0m(lat), int32 \u001b[4mmon\u001b[0m(mon), float64 \u001b[4miTr\u001b[0m(iTr), float32 \u001b[4mDelta_Albedo\u001b[0m(iTr,mon,lat,lon), float32 \u001b[4mSD_Delta_Albedo\u001b[0m(iTr,mon,lat,lon)\n",
      "    groups: \n",
      "\n"
     ]
    }
   ],
   "source": [
    "print wf"
   ]
  },
  {
   "cell_type": "code",
   "execution_count": 6,
   "metadata": {
    "collapsed": false
   },
   "outputs": [
    {
     "name": "stderr",
     "output_type": "stream",
     "text": [
      "C:\\Users\\Ivan\\Anaconda2\\lib\\site-packages\\iris\\fileformats\\cf.py:1139: UserWarning: NetCDF default loading behaviour currently does not expose variables which define reference surfaces for dimensionless vertical coordinates as independent Cubes. This behaviour is deprecated in favour of automatic promotion to Cubes. To switch to the new behaviour, set iris.FUTURE.netcdf_promote to True.\n",
      "  warnings.warn(msg)\n"
     ]
    }
   ],
   "source": [
    "iuse = iris.load(path)"
   ]
  },
  {
   "cell_type": "code",
   "execution_count": 7,
   "metadata": {
    "collapsed": false
   },
   "outputs": [],
   "source": [
    "diff = iuse[1]\n",
    "std = iuse[0]"
   ]
  },
  {
   "cell_type": "code",
   "execution_count": 8,
   "metadata": {
    "collapsed": false
   },
   "outputs": [
    {
     "data": {
      "text/plain": [
       "array([ 12.,  13.,  14.,  15.,  16.,  17.,  18.,  23.,  24.,  25.,  26.,\n",
       "        27.,  28.,  34.,  35.,  36.,  37.,  38.,  45.,  46.,  47.,  48.,\n",
       "        56.,  57.,  58.,  67.,  68.,  78.])"
      ]
     },
     "execution_count": 8,
     "metadata": {},
     "output_type": "execute_result"
    }
   ],
   "source": [
    "wf['iTr'][:]"
   ]
  },
  {
   "cell_type": "code",
   "execution_count": 9,
   "metadata": {
    "collapsed": true
   },
   "outputs": [],
   "source": [
    "iTr_lookup = {12: 'Tree Broadleaf Evergreen to Tree Broadleaf Deciduous',\n",
    "              13: 'Tree Broadleaf Evergreen to Tree Needleleaf Evergreen',\n",
    "              14: 'Tree Broadleaf Evergreen to Tree Needleleaf Deciduous',\n",
    "              15: 'Tree Broadleaf Evergreen to Shrubs',\n",
    "              16: 'Tree Broadleaf Evergreen to Natural Grass',\n",
    "              17: 'Tree Broadleaf Evergreen to Managed Grass',\n",
    "              18: 'Tree Broadleaf Evergreen to Bare Soil',\n",
    "              23: 'Tree Broadleaf Deciduous to Tree Needleleaf Evergreen',\n",
    "              24: 'Tree Broadleaf Deciduous to Tree Needleleaf Decidous',\n",
    "              25: 'Tree Broadleaf Deciduous to Shrubs',\n",
    "              26: 'Tree Broadleaf Deciduous to Natural Grass',\n",
    "              27: 'Tree Broadleaf Deciduous to Managed Grass',\n",
    "              28: 'Tree Broadleaf Deciduous to Bare Soil',\n",
    "              34: 'Tree Needleleaf Evergreen to Tree Needleleaf Deciduous',\n",
    "              35: 'Tree Needleleaf Evergreen to Shrubs',\n",
    "              36: 'Tree Needleleaf Evergreen to Natural Grass',\n",
    "              37: 'Tree Needleleaf Evergreen to Managed Grass',\n",
    "              38: 'Tree Needleleaf Evergreen to Bare Soil',\n",
    "              45: 'Tree Needleleaf Deciduous to Shrubs',\n",
    "              46: 'Tree Needleleaf Deciduous to Natural Grass',\n",
    "              47: 'Tree Needleleaf Deciduous to Managed Grass',\n",
    "              48: 'Tree Needleleaf Deciduous to Bare Soil',\n",
    "              56: 'Shrubs to Natural Grass',\n",
    "              57: 'Shrubs to Managed Grass',\n",
    "              58: 'Shrubs to Bare Soil',\n",
    "              67: 'Natural Grass to Managed Grass',\n",
    "              68: 'Natural Grass to Bare Soil',\n",
    "              78: 'Managed Grass to Bare Soil'    \n",
    "                }\n",
    "\n",
    "m_lookup = {1: 'Jan',\n",
    "            2: 'Feb',\n",
    "            3: 'Mar',\n",
    "            4: 'Apr',\n",
    "            5: 'May',\n",
    "            6: 'Jun',\n",
    "            7: 'Jul',\n",
    "            8: 'Aug',\n",
    "            9: 'Sep',\n",
    "            10: 'Oct',\n",
    "            11: 'Nov',\n",
    "            12: 'Dec'}"
   ]
  },
  {
   "cell_type": "code",
   "execution_count": 14,
   "metadata": {
    "collapsed": false,
    "scrolled": true
   },
   "outputs": [
    {
     "name": "stdout",
     "output_type": "stream",
     "text": [
      "0.243869\n",
      "0.28986\n",
      "0.0592089\n",
      "0.428314\n",
      "0.209177\n",
      "0.264373\n",
      "0.404986\n",
      "0.942283\n",
      "0.393733\n",
      "0.774279\n",
      "1.09301\n",
      "0.46457\n",
      "1.06483\n",
      "0.456472\n",
      "1.00173\n",
      "0.907724\n",
      "0.479059\n",
      "0.561745\n",
      "0.479186\n",
      "0.77229\n",
      "0.659086\n",
      "0.382815\n",
      "0.925779\n",
      "0.90073\n",
      "1.27687\n",
      "0.802601\n",
      "2.31455\n",
      "0.680068\n"
     ]
    }
   ],
   "source": [
    "for i in range(0,len(wf['iTr'])):\n",
    "\n",
    "    ax = plt.axes(projection = cp.crs.PlateCarree())\n",
    "    ax.stock_img()\n",
    "    #qplt.pcolormesh(std[i,0,:,:])\n",
    "    print np.max(std[i].data)\n",
    "    #plt.title(iTr_lookup[wf['iTr'][i]])\n",
    "    #plt.show()"
   ]
  },
  {
   "cell_type": "code",
   "execution_count": 76,
   "metadata": {
    "collapsed": false,
    "scrolled": true
   },
   "outputs": [],
   "source": [
    "savedir = 'W:\\\\2 Clients\\\\European Commission\\\\LUC4C\\\\Implementation\\\\WP7\\\\LUC_albedo_cf'\n",
    "\n",
    "mrange = [12,1,2,3,4,5,6,7,8,9,10,11]\n",
    "for i, trkey in enumerate(iTr_lookup.keys()):  \n",
    "    fig = plt.figure(figsize = (12,8), dpi=100)\n",
    "    \n",
    "    for j, month in enumerate(mrange):\n",
    "        \n",
    "        row = ((j%12)/3)+1\n",
    "        col = j%3 +1  \n",
    "        num = j+1\n",
    "        ax = plt.subplot(4,3,num,projection = cp.crs.PlateCarree())\n",
    "        #ax.coastlines(color = 'white')\n",
    "        ax.stock_img()\n",
    "        \n",
    "        cmap = plt.cm.get_cmap('seismic',21)\n",
    "        #cmap.set_bad('black')\n",
    "        cf = iplt.pcolormesh(diff[i,j,:,:], vmin = -1, vmax = 1, cmap = cmap)\n",
    "        #iplt.pcolormesh(diff[i,j,:,:], vmin = -1, vmax = 1, cmap = plt.cm.get_cmap('seismic', 21))\n",
    "        \n",
    "        plt.title(m_lookup[month], size=8)\n",
    "        \n",
    "    colorbar_axes = fig.add_axes([0.3, 0.07, 0.4, 0.02])\n",
    "    colorbar = plt.colorbar(cf, colorbar_axes, orientation='horizontal')\n",
    "    colorbar.set_label('Delta albedo', size=8)\n",
    "    colorbar.ax.tick_params(labelsize=8)\n",
    "\n",
    "    fig.suptitle(iTr_lookup[trkey])   \n",
    "    fig.subplots_adjust(hspace=0.15, wspace=0.05, top=0.90, bottom=0.1, left=0.075, right=0.925)\n",
    "    plt.savefig(os.path.join(savedir, '{}.png'.format(iTr_lookup[trkey])), transparent=True)\n",
    "    plt.close()"
   ]
  },
  {
   "cell_type": "code",
   "execution_count": 22,
   "metadata": {
    "collapsed": false
   },
   "outputs": [
    {
     "name": "stderr",
     "output_type": "stream",
     "text": [
      "C:\\Users\\Ivan\\Anaconda2\\lib\\site-packages\\matplotlib\\artist.py:221: MatplotlibDeprecationWarning: This has been deprecated in mpl 1.5, please use the\n",
      "axes property.  A removal date has not been set.\n",
      "  warnings.warn(_get_axes_msg, mplDeprecation, stacklevel=1)\n"
     ]
    }
   ],
   "source": [
    "#annual\n",
    "savedir = 'W:\\\\2 Clients\\\\European Commission\\\\LUC4C\\\\Implementation\\\\WP7\\\\LUC_albedo_cf'\n",
    "\n",
    "mrange = [12,1,2,3,4,5,6,7,8,9,10,11]\n",
    "for i, trkey in enumerate(iTr_lookup.keys()):  \n",
    "    fig = plt.figure(figsize = (12,8), dpi=100)\n",
    "    ax = plt.axes(projection = cp.crs.PlateCarree())\n",
    "    ax.coastlines(color = 'white')\n",
    "    #ax.stock_img()\n",
    "    cmap = plt.cm.get_cmap('seismic',21)\n",
    "    cmap.set_bad('black')\n",
    "    diff_ann = diff.collapsed('mon', iris.analysis.MEAN)\n",
    "    cf = iplt.pcolormesh(diff_ann[i,:,:], vmin = -1, vmax = 1, cmap = cmap)\n",
    "    #iplt.pcolormesh(diff[i,j,:,:], vmin = -1, vmax = 1, cmap = plt.cm.get_cmap('seismic', 21))\n",
    "\n",
    "    colorbar_axes = fig.add_axes([0.3, 0.07, 0.4, 0.02])\n",
    "    colorbar = plt.colorbar(cf, colorbar_axes, orientation='horizontal')\n",
    "    colorbar.set_label('Delta albedo', size=8)\n",
    "    colorbar.ax.tick_params(labelsize=8)\n",
    "\n",
    "    fig.suptitle(iTr_lookup[trkey])   \n",
    "    fig.subplots_adjust(hspace=0.15, wspace=0.05, top=0.90, bottom=0.1, left=0.075, right=0.925)\n",
    "    plt.savefig(os.path.join(savedir, 'annual_BLACK_{}.png'.format(iTr_lookup[trkey])), transparent=True)\n",
    "    plt.close()"
   ]
  },
  {
   "cell_type": "code",
   "execution_count": 20,
   "metadata": {
    "collapsed": false
   },
   "outputs": [],
   "source": [
    "#by month single plot\n",
    "#annual\n",
    "savedir = 'W:\\\\2 Clients\\\\European Commission\\\\LUC4C\\\\Implementation\\\\WP7\\\\LUC_albedo_cf'\n",
    "\n",
    "mrange = [12,1,2,3,4,5,6,7,8,9,10,11]\n",
    "for i, trkey in enumerate(iTr_lookup.keys()):\n",
    "    for j, month in enumerate(mrange):\n",
    "        fig = plt.figure(figsize = (12,8), dpi=100)\n",
    "        ax = plt.axes(projection = cp.crs.PlateCarree())\n",
    "        #ax.coastlines(color = 'white')\n",
    "        ax.stock_img()\n",
    "        cmap = plt.cm.get_cmap('seismic',21)\n",
    "        #cmap.set_bad('black')\n",
    "        cf = iplt.pcolormesh(diff[i,j,:,:], vmin = -1, vmax = 1, cmap = cmap)\n",
    "        #iplt.pcolormesh(diff[i,j,:,:], vmin = -1, vmax = 1, cmap = plt.cm.get_cmap('seismic', 21))\n",
    "\n",
    "        colorbar_axes = fig.add_axes([0.3, 0.07, 0.4, 0.02])\n",
    "        colorbar = plt.colorbar(cf, colorbar_axes, orientation='horizontal')\n",
    "        colorbar.set_label('Delta albedo', size=8)\n",
    "        colorbar.ax.tick_params(labelsize=8)\n",
    "\n",
    "        fig.suptitle('{} {}'.format(m_lookup[month], iTr_lookup[trkey]))   \n",
    "        fig.subplots_adjust(hspace=0.15, wspace=0.05, top=0.90, bottom=0.1, left=0.075, right=0.925)\n",
    "        plt.savefig(os.path.join(savedir, '{}_month_{}.png'.format(iTr_lookup[trkey], month)), transparent=True)\n",
    "        plt.close()"
   ]
  },
  {
   "cell_type": "code",
   "execution_count": 110,
   "metadata": {
    "collapsed": false
   },
   "outputs": [],
   "source": [
    "#both DeltaAlbedo and STDEV on same plot\n",
    "\n",
    "savedir = 'W:\\\\2 Clients\\\\European Commission\\\\LUC4C\\\\Implementation\\\\WP7\\\\LUC_albedo_cf'\n",
    "\n",
    "mrange = [12,1,2,3,4,5,6,7,8,9,10,11]\n",
    "stdmax = np.nanpercentile(std.data,95)\n",
    "for i, trkey in enumerate(iTr_lookup.keys()):\n",
    "    for j, month in enumerate(mrange):\n",
    "        fig = plt.figure(figsize = (12,4), dpi=100)\n",
    "        \n",
    "        cmap = plt.cm.get_cmap('seismic',21)\n",
    "        cmap.set_bad('black')\n",
    "        cmap_std = plt.cm.get_cmap('Greys_r',21)#cmap_std = plt.cm.get_cmap('Reds',21)\n",
    "        cmap_std.set_bad('black')\n",
    "\n",
    "        ax1 = plt.subplot(121, projection=cp.crs.PlateCarree())\n",
    "        ax1.coastlines(color = 'grey')\n",
    "        #ax1.stock_img()\n",
    "        cf = iplt.pcolormesh(diff[i,j,:,:], vmin = -1, vmax = 1, cmap = cmap)\n",
    "        \n",
    "        #colorbar_axes = plt.gcf().add_axes([0.3, 0.07, 0.4, 0.02])\n",
    "        colorbar = plt.colorbar(cf, ax=ax1, orientation='horizontal')\n",
    "        colorbar.set_label('Delta albedo', size=8)\n",
    "        colorbar.ax.tick_params(labelsize=8)\n",
    "\n",
    "        ax2 = plt.subplot(122, projection=cp.crs.PlateCarree())\n",
    "        ax2.coastlines(color = 'grey')\n",
    "        #ax2.stock_img()\n",
    "        cf_std = iplt.pcolormesh(std[i,j,:,:], cmap = cmap_std, vmin=0, vmax=stdmax)\n",
    "                \n",
    "        #colorbar_axes = plt.gcf().add_axes([0.3, 0.07, 0.4, 0.02])\n",
    "        colorbar = plt.colorbar(cf_std, ax=ax2, orientation='horizontal', extend='max', format='%0.3f')\n",
    "        colorbar.set_label('STD of Delta albedo', size=8)\n",
    "        colorbar.ax.tick_params(labelsize=8)        \n",
    "\n",
    "        fig.suptitle('{} {}'.format(m_lookup[month], iTr_lookup[trkey]))   \n",
    "        fig.subplots_adjust(hspace=0, wspace=0.06, top=1, bottom=0., left=0.075, right=0.925)\n",
    "        plt.savefig(os.path.join(savedir, 'wstd_BLACK_{}_month_{}.png'.format(iTr_lookup[trkey], month)), transparent=True)\n",
    "        plt.close()"
   ]
  },
  {
   "cell_type": "code",
   "execution_count": 32,
   "metadata": {
    "collapsed": false
   },
   "outputs": [],
   "source": [
    "#both DeltaAlbedo and STDEV on same plot annual\n",
    "\n",
    "savedir = 'W:\\\\2 Clients\\\\European Commission\\\\LUC4C\\\\Implementation\\\\WP7\\\\LUC_albedo_cf'\n",
    "\n",
    "mrange = [12,1,2,3,4,5,6,7,8,9,10,11]\n",
    "stdmax = np.nanpercentile(std.data,99)\n",
    "\n",
    "diff_ann = diff.collapsed('mon', iris.analysis.MEAN)\n",
    "std_ann = std.collapsed('mon', iris.analysis.MEAN)\n",
    "\n",
    "for i, trkey in enumerate(iTr_lookup.keys()):\n",
    "    \n",
    "    fig = plt.figure(figsize = (24,8), dpi=100)\n",
    "\n",
    "    cmap = plt.cm.get_cmap('seismic',21)\n",
    "    cmap.set_bad('black')\n",
    "    cmap_std = plt.cm.get_cmap('Greys_r',21)#cmap_std = plt.cm.get_cmap('Reds',21)\n",
    "    cmap_std.set_bad('black')\n",
    "\n",
    "    ax1 = plt.subplot(121, projection=cp.crs.PlateCarree())\n",
    "    ax1.coastlines(color = 'grey')\n",
    "    gl1 = ax1.gridlines(color='grey', draw_labels=True)\n",
    "    gl1.xlabel_style = {'size': 8}\n",
    "    gl1.ylabel_style = {'size': 8}\n",
    "    gl1.xlabels_bottom = False\n",
    "    gl1.ylabels_right = False\n",
    "    #ax1.stock_img()\n",
    "    cf = iplt.pcolormesh(diff_ann[i,:,:], vmin = -1, vmax = 1, cmap = cmap)\n",
    "\n",
    "    #colorbar_axes = plt.gcf().add_axes([0.3, 0.07, 0.4, 0.02])\n",
    "    colorbar = plt.colorbar(cf, ax=ax1, orientation='horizontal')\n",
    "    colorbar.set_label('Delta albedo', size=8)\n",
    "    colorbar.ax.tick_params(labelsize=8)\n",
    "\n",
    "    ax2 = plt.subplot(122, projection=cp.crs.PlateCarree())\n",
    "    ax2.coastlines(color = 'grey')\n",
    "    gl2 = ax2.gridlines(color='grey', draw_labels=True)\n",
    "    gl2.xlabel_style = {'size': 8}\n",
    "    gl2.ylabel_style = {'size': 8}\n",
    "    gl2.xlabels_top = False\n",
    "    gl2.ylabels_left = False\n",
    "    #ax2.stock_img()\n",
    "    cf_std = iplt.pcolormesh(std_ann[i,:,:], cmap = cmap_std, vmin=0, vmax=stdmax)\n",
    "\n",
    "    #colorbar_axes = plt.gcf().add_axes([0.3, 0.07, 0.4, 0.02])\n",
    "    colorbar = plt.colorbar(cf_std, ax=ax2, orientation='horizontal', extend='max', format='%0.3f')\n",
    "    colorbar.set_label('STD of Delta albedo', size=8)\n",
    "    colorbar.ax.tick_params(labelsize=8)        \n",
    "\n",
    "    fig.suptitle('{}'.format(iTr_lookup[trkey]))   \n",
    "    fig.subplots_adjust(hspace=0, wspace=0.06, top=1, bottom=0., left=0.075, right=0.925)\n",
    "    plt.savefig(os.path.join(savedir, 'wstd_BLACK_{}_annual.png'.format(iTr_lookup[trkey])), transparent=True)\n",
    "    plt.close()"
   ]
  },
  {
   "cell_type": "code",
   "execution_count": 17,
   "metadata": {
    "collapsed": false
   },
   "outputs": [
    {
     "name": "stdout",
     "output_type": "stream",
     "text": [
      "0.439622203509\n",
      "[ 0.00001011  0.00039133  0.00131141  0.00306293  0.00757092  0.4396222 ]\n"
     ]
    }
   ],
   "source": [
    "print np.nanmax(std_ann.data)\n",
    "print np.nanpercentile(std_ann.data,[95,96,97,98,99,100])"
   ]
  },
  {
   "cell_type": "code",
   "execution_count": 8,
   "metadata": {
    "collapsed": false
   },
   "outputs": [
    {
     "data": {
      "text/plain": [
       "array([ 89.5,  88.5,  87.5,  86.5,  85.5,  84.5,  83.5,  82.5,  81.5,\n",
       "        80.5,  79.5,  78.5,  77.5,  76.5,  75.5,  74.5,  73.5,  72.5,\n",
       "        71.5,  70.5,  69.5,  68.5,  67.5,  66.5,  65.5,  64.5,  63.5,\n",
       "        62.5,  61.5,  60.5,  59.5,  58.5,  57.5,  56.5,  55.5,  54.5,\n",
       "        53.5,  52.5,  51.5,  50.5,  49.5,  48.5,  47.5,  46.5,  45.5,\n",
       "        44.5,  43.5,  42.5,  41.5,  40.5,  39.5,  38.5,  37.5,  36.5,\n",
       "        35.5,  34.5,  33.5,  32.5,  31.5,  30.5,  29.5,  28.5,  27.5,\n",
       "        26.5,  25.5,  24.5,  23.5,  22.5,  21.5,  20.5,  19.5,  18.5,\n",
       "        17.5,  16.5,  15.5,  14.5,  13.5,  12.5,  11.5,  10.5,   9.5,\n",
       "         8.5,   7.5,   6.5,   5.5,   4.5,   3.5,   2.5,   1.5,   0.5,\n",
       "        -0.5,  -1.5,  -2.5,  -3.5,  -4.5,  -5.5,  -6.5,  -7.5,  -8.5,\n",
       "        -9.5, -10.5, -11.5, -12.5, -13.5, -14.5, -15.5, -16.5, -17.5,\n",
       "       -18.5, -19.5, -20.5, -21.5, -22.5, -23.5, -24.5, -25.5, -26.5,\n",
       "       -27.5, -28.5, -29.5, -30.5, -31.5, -32.5, -33.5, -34.5, -35.5,\n",
       "       -36.5, -37.5, -38.5, -39.5, -40.5, -41.5, -42.5, -43.5, -44.5,\n",
       "       -45.5, -46.5, -47.5, -48.5, -49.5, -50.5, -51.5, -52.5, -53.5,\n",
       "       -54.5, -55.5, -56.5, -57.5, -58.5, -59.5, -60.5, -61.5, -62.5,\n",
       "       -63.5, -64.5, -65.5, -66.5, -67.5, -68.5, -69.5, -70.5, -71.5,\n",
       "       -72.5, -73.5, -74.5, -75.5, -76.5, -77.5, -78.5, -79.5, -80.5,\n",
       "       -81.5, -82.5, -83.5, -84.5, -85.5, -86.5, -87.5, -88.5, -89.5])"
      ]
     },
     "execution_count": 8,
     "metadata": {},
     "output_type": "execute_result"
    }
   ],
   "source": [
    "wf.variables['lat'][:]"
   ]
  },
  {
   "cell_type": "code",
   "execution_count": 11,
   "metadata": {
    "collapsed": false
   },
   "outputs": [
    {
     "data": {
      "text/plain": [
       "array([-179.5, -178.5, -177.5, -176.5, -175.5, -174.5, -173.5, -172.5,\n",
       "       -171.5, -170.5, -169.5, -168.5, -167.5, -166.5, -165.5, -164.5,\n",
       "       -163.5, -162.5, -161.5, -160.5, -159.5, -158.5, -157.5, -156.5,\n",
       "       -155.5, -154.5, -153.5, -152.5, -151.5, -150.5, -149.5, -148.5,\n",
       "       -147.5, -146.5, -145.5, -144.5, -143.5, -142.5, -141.5, -140.5,\n",
       "       -139.5, -138.5, -137.5, -136.5, -135.5, -134.5, -133.5, -132.5,\n",
       "       -131.5, -130.5, -129.5, -128.5, -127.5, -126.5, -125.5, -124.5,\n",
       "       -123.5, -122.5, -121.5, -120.5, -119.5, -118.5, -117.5, -116.5,\n",
       "       -115.5, -114.5, -113.5, -112.5, -111.5, -110.5, -109.5, -108.5,\n",
       "       -107.5, -106.5, -105.5, -104.5, -103.5, -102.5, -101.5, -100.5,\n",
       "        -99.5,  -98.5,  -97.5,  -96.5,  -95.5,  -94.5,  -93.5,  -92.5,\n",
       "        -91.5,  -90.5,  -89.5,  -88.5,  -87.5,  -86.5,  -85.5,  -84.5,\n",
       "        -83.5,  -82.5,  -81.5,  -80.5,  -79.5,  -78.5,  -77.5,  -76.5,\n",
       "        -75.5,  -74.5,  -73.5,  -72.5,  -71.5,  -70.5,  -69.5,  -68.5,\n",
       "        -67.5,  -66.5,  -65.5,  -64.5,  -63.5,  -62.5,  -61.5,  -60.5,\n",
       "        -59.5,  -58.5,  -57.5,  -56.5,  -55.5,  -54.5,  -53.5,  -52.5,\n",
       "        -51.5,  -50.5,  -49.5,  -48.5,  -47.5,  -46.5,  -45.5,  -44.5,\n",
       "        -43.5,  -42.5,  -41.5,  -40.5,  -39.5,  -38.5,  -37.5,  -36.5,\n",
       "        -35.5,  -34.5,  -33.5,  -32.5,  -31.5,  -30.5,  -29.5,  -28.5,\n",
       "        -27.5,  -26.5,  -25.5,  -24.5,  -23.5,  -22.5,  -21.5,  -20.5,\n",
       "        -19.5,  -18.5,  -17.5,  -16.5,  -15.5,  -14.5,  -13.5,  -12.5,\n",
       "        -11.5,  -10.5,   -9.5,   -8.5,   -7.5,   -6.5,   -5.5,   -4.5,\n",
       "         -3.5,   -2.5,   -1.5,   -0.5,    0.5,    1.5,    2.5,    3.5,\n",
       "          4.5,    5.5,    6.5,    7.5,    8.5,    9.5,   10.5,   11.5,\n",
       "         12.5,   13.5,   14.5,   15.5,   16.5,   17.5,   18.5,   19.5,\n",
       "         20.5,   21.5,   22.5,   23.5,   24.5,   25.5,   26.5,   27.5,\n",
       "         28.5,   29.5,   30.5,   31.5,   32.5,   33.5,   34.5,   35.5,\n",
       "         36.5,   37.5,   38.5,   39.5,   40.5,   41.5,   42.5,   43.5,\n",
       "         44.5,   45.5,   46.5,   47.5,   48.5,   49.5,   50.5,   51.5,\n",
       "         52.5,   53.5,   54.5,   55.5,   56.5,   57.5,   58.5,   59.5,\n",
       "         60.5,   61.5,   62.5,   63.5,   64.5,   65.5,   66.5,   67.5,\n",
       "         68.5,   69.5,   70.5,   71.5,   72.5,   73.5,   74.5,   75.5,\n",
       "         76.5,   77.5,   78.5,   79.5,   80.5,   81.5,   82.5,   83.5,\n",
       "         84.5,   85.5,   86.5,   87.5,   88.5,   89.5,   90.5,   91.5,\n",
       "         92.5,   93.5,   94.5,   95.5,   96.5,   97.5,   98.5,   99.5,\n",
       "        100.5,  101.5,  102.5,  103.5,  104.5,  105.5,  106.5,  107.5,\n",
       "        108.5,  109.5,  110.5,  111.5,  112.5,  113.5,  114.5,  115.5,\n",
       "        116.5,  117.5,  118.5,  119.5,  120.5,  121.5,  122.5,  123.5,\n",
       "        124.5,  125.5,  126.5,  127.5,  128.5,  129.5,  130.5,  131.5,\n",
       "        132.5,  133.5,  134.5,  135.5,  136.5,  137.5,  138.5,  139.5,\n",
       "        140.5,  141.5,  142.5,  143.5,  144.5,  145.5,  146.5,  147.5,\n",
       "        148.5,  149.5,  150.5,  151.5,  152.5,  153.5,  154.5,  155.5,\n",
       "        156.5,  157.5,  158.5,  159.5,  160.5,  161.5,  162.5,  163.5,\n",
       "        164.5,  165.5,  166.5,  167.5,  168.5,  169.5,  170.5,  171.5,\n",
       "        172.5,  173.5,  174.5,  175.5,  176.5,  177.5,  178.5,  179.5])"
      ]
     },
     "execution_count": 11,
     "metadata": {},
     "output_type": "execute_result"
    }
   ],
   "source": [
    "wf.variables['lon'][:]"
   ]
  },
  {
   "cell_type": "code",
   "execution_count": null,
   "metadata": {
    "collapsed": true
   },
   "outputs": [],
   "source": []
  }
 ],
 "metadata": {
  "kernelspec": {
   "display_name": "Python 2",
   "language": "python",
   "name": "python2"
  },
  "language_info": {
   "codemirror_mode": {
    "name": "ipython",
    "version": 2
   },
   "file_extension": ".py",
   "mimetype": "text/x-python",
   "name": "python",
   "nbconvert_exporter": "python",
   "pygments_lexer": "ipython2",
   "version": "2.7.11"
  }
 },
 "nbformat": 4,
 "nbformat_minor": 0
}
