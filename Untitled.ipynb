{
 "cells": [
  {
   "cell_type": "code",
   "execution_count": 1,
   "metadata": {
    "collapsed": true
   },
   "outputs": [],
   "source": [
    "import os\n",
    "import numpy as np\n",
    "import netCDF4 as nc"
   ]
  },
  {
   "cell_type": "code",
   "execution_count": 2,
   "metadata": {
    "collapsed": true
   },
   "outputs": [],
   "source": [
    "path = 'W:\\\\2 Clients\\\\European Commission\\\\LUC4C\\\\Incoming Documents\\\\JRC_albedo_transitions_LUC\\\\Albedo.nc'"
   ]
  },
  {
   "cell_type": "code",
   "execution_count": 3,
   "metadata": {
    "collapsed": true
   },
   "outputs": [],
   "source": [
    "wf = nc.Dataset(path)"
   ]
  },
  {
   "cell_type": "code",
   "execution_count": 33,
   "metadata": {
    "collapsed": true
   },
   "outputs": [],
   "source": [
    "iTr_lookup = {12: 'Tree Broadleaf Evergreen to Tree Broadleaf Deciduous',\n",
    "              13: 'Tree Broadleaf Evergreen to Tree Needleleaf Evergreen',\n",
    "              14: 'Tree Broadleaf Evergreen to Tree Needleleaf Deciduous',\n",
    "              15: 'Tree Broadleaf Evergreen to Shrubs',\n",
    "              16: 'Tree Broadleaf Evergreen to Natural Grass',\n",
    "              17: 'Tree Broadleaf Evergreen to Managed Grass',\n",
    "              18: 'Tree Broadleaf Evergreen to Bare Soil',\n",
    "              23: 'Tree Broadleaf Deciduous to Tree Needleleaf Evergreen',\n",
    "              24: 'Tree Broadleaf Deciduous to Tree Needleleaf Decidous',\n",
    "              25: 'Tree Broadleaf Deciduous to Shrubs',\n",
    "              26: 'Tree Broadleaf Deciduous to Natural Grass',\n",
    "              27: 'Tree Broadleaf Deciduous to Managed Grass',\n",
    "              28: 'Tree Broadleaf Deciduous to Bare Soil',\n",
    "              34: 'Tree Needleleaf Evergreen to Tree Needleleaf Deciduous',\n",
    "              35: 'Tree Needleleaf Evergreen to Shrubs',\n",
    "              36: 'Tree Needleleaf Evergreen to Natural Grass',\n",
    "              37: 'Tree Needleleaf Evergreen to Managed Grass',\n",
    "              38: 'Tree Needleleaf Evergreen to Bare Soil',\n",
    "              45: 'Tree Needleleaf Deciduous to Shrubs',\n",
    "              46: 'Tree Needleleaf Deciduous to Natural Grass',\n",
    "              47: 'Tree Needleleaf Deciduous to Managed Grass',\n",
    "              48: 'Tree Needleleaf Deciduous to Bare Soil',\n",
    "              56: 'Shrubs to Natural Grass',\n",
    "              57: 'Shrubs to Managed Grass',\n",
    "              58: 'Shrubs to Bare Soil',\n",
    "              67: 'Natural Grass to Managed Grass',\n",
    "              68: 'Natural Grass to Bare Soil',\n",
    "              78: 'Managed Grass to Bare Soil'    \n",
    "                }\n",
    "\n",
    "m_lookup = {1: 'Jan',\n",
    "            2: 'Feb',\n",
    "            3: 'Mar',\n",
    "            4: 'Apr',\n",
    "            5: 'May',\n",
    "            6: 'Jun',\n",
    "            7: 'Jul',\n",
    "            8: 'Aug',\n",
    "            9: 'Sep',\n",
    "            10: 'Oct',\n",
    "            11: 'Nov',\n",
    "            12: 'Dec'}"
   ]
  },
  {
   "cell_type": "code",
   "execution_count": 13,
   "metadata": {
    "collapsed": false
   },
   "outputs": [],
   "source": [
    "lats = wf.variables['lat'][:]\n",
    "lons = wf.variables['lon'][:]\n",
    "iTrs = wf.variables['iTr'][:]\n",
    "\n",
    "\n",
    "def latlon_idx(lat, lon):    \n",
    "    lat_idx = (np.abs(lats - lat)).argmin()\n",
    "    lon_idx = (np.abs(lons - lon)).argmin()\n",
    "    return lat_idx, lon_idx\n",
    "\n",
    "def iTr_idx(iTr):\n",
    "    idx = np.where(iTrs == iTr)[0][0]\n",
    "    return idx"
   ]
  },
  {
   "cell_type": "code",
   "execution_count": 47,
   "metadata": {
    "collapsed": false
   },
   "outputs": [
    {
     "name": "stdout",
     "output_type": "stream",
     "text": [
      "[0.01498449593782425 0.007725725416094065 0.00906851701438427\n",
      " -0.0014200073201209307 0.004631768446415663 -0.0028331978246569633\n",
      " 0.011659876443445683 0.024589108303189278 0.017920341342687607\n",
      " 0.012171716429293156 0.012310636229813099 0.011575617827475071]\n",
      "0.0101987\n"
     ]
    }
   ],
   "source": [
    "la,lo = latlon_idx(33.8, -97.2)\n",
    "albedo = wf['Delta_Albedo'][iTr_idx(67),:,la,lo]\n",
    "print albedo\n",
    "print np.average(albedo)"
   ]
  }
 ],
 "metadata": {
  "kernelspec": {
   "display_name": "Python 2",
   "language": "python",
   "name": "python2"
  },
  "language_info": {
   "codemirror_mode": {
    "name": "ipython",
    "version": 2
   },
   "file_extension": ".py",
   "mimetype": "text/x-python",
   "name": "python",
   "nbconvert_exporter": "python",
   "pygments_lexer": "ipython2",
   "version": "2.7.11"
  }
 },
 "nbformat": 4,
 "nbformat_minor": 0
}
