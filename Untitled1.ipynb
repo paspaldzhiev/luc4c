{
 "cells": [
  {
   "cell_type": "code",
   "execution_count": 1,
   "metadata": {
    "collapsed": true
   },
   "outputs": [],
   "source": [
    "import numpy as np\n",
    "import matplotlib.pyplot as plt\n",
    "from scipy import integrate"
   ]
  },
  {
   "cell_type": "code",
   "execution_count": 2,
   "metadata": {
    "collapsed": false
   },
   "outputs": [],
   "source": [
    "def calc_delta(day):\n",
    "    return 23.45*np.sin(np.deg2rad(360*(284+day)/365.)) #return degrees\n",
    "\n",
    "def calc_omega(lat,delta):\n",
    "    return np.rad2deg(np.arccos(-np.tan(np.deg2rad(lat))*np.tan(np.deg2rad(delta)))) # return degrees\n",
    "\n",
    "\n",
    "nday_monthly_average = {1:17,\n",
    "                        2:47,\n",
    "                        3:75,\n",
    "                        4:105,\n",
    "                        5:135,\n",
    "                        6:162,\n",
    "                        7:198,\n",
    "                        8:228,\n",
    "                        9:258,\n",
    "                        10:288,\n",
    "                        11:318,\n",
    "                        12:344}\n",
    "\n",
    "def Rtoa(lat,day,sc=1367):\n",
    "    delta = calc_delta(day)\n",
    "    omega = calc_omega(lat,delta)\n",
    "    return (sc/np.pi) * (1+0.033 * np.cos(np.deg2rad((360*day)/365.))) * (np.cos(np.deg2rad(lat)) * np.cos(np.deg2rad(delta))\n",
    "                         * np.sin(np.deg2rad(omega)) +((np.pi*omega)/180)*np.sin(np.deg2rad(lat))*np.sin(np.deg2rad(delta)))"
   ]
  },
  {
   "cell_type": "code",
   "execution_count": 3,
   "metadata": {
    "collapsed": false
   },
   "outputs": [],
   "source": [
    "#IRF of CO2, parameterised as per IPCC AR4\n",
    "\n",
    "a0 = 0.217\n",
    "a1to3 = np.array([0.259, 0.338, 0.186])\n",
    "tau1to3 = np.array([172.9, 18.51, 1.186]) # years\n",
    "\n",
    "def irf_co2(t):\n",
    "    return a0 + np.sum(a1to3 * np.exp(-t/tau1to3))\n",
    "    \n",
    "\n",
    "co2 = np.empty(shape=100)\n",
    "\n",
    "for i in range(0,100):\n",
    "    co2[i] = irf_co2(i+1)"
   ]
  },
  {
   "cell_type": "code",
   "execution_count": 4,
   "metadata": {
    "collapsed": false
   },
   "outputs": [
    {
     "name": "stdout",
     "output_type": "stream",
     "text": [
      "[ 0.87477443  0.81085081  0.77379636  0.74876768  0.72935291  0.71276987\n",
      "  0.69779964  0.68389715  0.67080841  0.65840569  0.64661659  0.63539342\n",
      "  0.6247      0.61450592  0.60478404  0.59550936  0.5866585   0.57820944\n",
      "  0.57014136  0.56243459  0.55507047  0.54803134  0.54130048  0.53486201\n",
      "  0.52870093  0.52280299  0.51715471  0.51174331  0.50655667  0.50158332\n",
      "  0.49681239  0.49223357  0.48783709  0.48361372  0.47955466  0.47565163\n",
      "  0.47189674  0.46828253  0.46480193  0.46144824  0.45821511  0.45509652\n",
      "  0.45208676  0.44918044  0.44637243  0.44365787  0.44103215  0.43849093\n",
      "  0.43603006  0.43364563  0.43133392  0.4290914   0.42691475  0.4248008\n",
      "  0.42274656  0.42074917  0.41880594  0.41691432  0.41507188  0.41327634\n",
      "  0.4115255   0.40981731  0.40814981  0.40652114  0.40492955  0.40337335\n",
      "  0.40185098  0.40036092  0.39890176  0.39747214  0.39607077  0.39469646\n",
      "  0.39334803  0.39202441  0.39072454  0.38944745  0.38819219  0.38695789\n",
      "  0.3857437   0.38454882  0.38337249  0.38221399  0.38107265  0.3799478\n",
      "  0.37883883  0.37774516  0.37666623  0.37560151  0.3745505   0.37351272\n",
      "  0.37248772  0.37147507  0.37047436  0.3694852   0.36850721  0.36754005\n",
      "  0.36658338  0.36563688  0.36470025  0.3637732 ]\n"
     ]
    }
   ],
   "source": [
    "print co2\n",
    "plt.plot(co2)\n",
    "plt.show()"
   ]
  },
  {
   "cell_type": "code",
   "execution_count": 5,
   "metadata": {
    "collapsed": false
   },
   "outputs": [
    {
     "data": {
      "text/plain": [
       "(47.81609672294752, 3.8931971650032554e-08)"
      ]
     },
     "execution_count": 5,
     "metadata": {},
     "output_type": "execute_result"
    }
   ],
   "source": [
    "integrate.quad(irf_co2,0,100)"
   ]
  },
  {
   "cell_type": "code",
   "execution_count": 97,
   "metadata": {
    "collapsed": false
   },
   "outputs": [],
   "source": [
    "#test bright 2012\n",
    "lat = 60\n",
    "delta_albedo = 0.44 - 0.13\n",
    "tau = 25\n",
    "\n",
    "def decay(t,tau,t_init=0):\n",
    "    try:\n",
    "        full = np.empty(shape = t.shape)\n",
    "        for i,each in enumerate(t):\n",
    "            if each-t_init < tau:\n",
    "                full[i] =  1-((each-0)/float(tau))\n",
    "            elif each-t_init >= tau:\n",
    "                full[i] = 0\n",
    "            return full\n",
    "    except Exception as ex:\n",
    "        print ex\n",
    "        if t-t_init < tau:\n",
    "            return 1-((t-t_init)/float(tau))\n",
    "        elif t-t_init >= tau:\n",
    "            return 0\n",
    "       \n",
    "def decay(t,tau):\n",
    "    try:\n",
    "        full = np.empty(shape = t.shape)\n",
    "        for i,each in enumerate(t):\n",
    "            if each < tau:\n",
    "                full[i] =  1-(each/float(tau))\n",
    "            elif each >= tau:\n",
    "                full[i] = 0\n",
    "        return full\n",
    "    except:\n",
    "        if t < tau:\n",
    "            return 1-(t/float(tau))\n",
    "        elif t >= tau:\n",
    "            return 0     \n",
    "\n",
    "kt = 0.45\n",
    "area = 1\n",
    "area_earth = 5.1E14\n",
    "\n",
    "rad_eff = 1.4E-5"
   ]
  },
  {
   "cell_type": "code",
   "execution_count": 107,
   "metadata": {
    "collapsed": false
   },
   "outputs": [
    {
     "name": "stdout",
     "output_type": "stream",
     "text": [
      "[ 1.    0.96  0.92  0.88  0.84  0.8   0.76  0.72  0.68  0.64  0.6   0.56\n",
      "  0.52  0.48  0.44  0.4   0.36  0.32  0.28  0.24  0.2   0.16  0.12  0.08\n",
      "  0.04  0.    0.  ]\n",
      "[ 1.    0.96  0.92  0.88  0.84  0.8   0.76  0.72  0.68  0.64  0.6   0.56\n",
      "  0.52  0.48]\n"
     ]
    }
   ],
   "source": [
    "print decay(np.arange(0,27),tau)\n",
    "print 1 - ((np.arange(0,14) - 0)/float(tau))"
   ]
  },
  {
   "cell_type": "code",
   "execution_count": 112,
   "metadata": {
    "collapsed": false
   },
   "outputs": [
    {
     "name": "stdout",
     "output_type": "stream",
     "text": [
      "-14.6578971417\n",
      "-2.87409747877e-14\n"
     ]
    }
   ],
   "source": [
    "local_inst = np.sum(-Rtoa(60, np.asarray(nday_monthly_average.values())))/12  * kt**2 * delta_albedo #w/m2\n",
    "print local_inst\n",
    "print local_inst * (area/area_earth)"
   ]
  },
  {
   "cell_type": "code",
   "execution_count": 153,
   "metadata": {
    "collapsed": false
   },
   "outputs": [
    {
     "name": "stdout",
     "output_type": "stream",
     "text": [
      "-8.8494\n"
     ]
    }
   ],
   "source": [
    "local_inst_pnw = -301 * 0.42 * 0.07\n",
    "print local_inst_pnw"
   ]
  },
  {
   "cell_type": "code",
   "execution_count": 156,
   "metadata": {
    "collapsed": false
   },
   "outputs": [],
   "source": [
    "time = np.arange(0,tau+1)\n",
    "\n",
    "def lel(t):\n",
    "    return local_inst * decay(t, tau) * (area/area_earth)"
   ]
  },
  {
   "cell_type": "code",
   "execution_count": 139,
   "metadata": {
    "collapsed": true
   },
   "outputs": [],
   "source": [
    "plt.plot(local_inst * decay(np.arange(0,101), tau) * (area/area_earth))\n",
    "plt.show()"
   ]
  },
  {
   "cell_type": "code",
   "execution_count": 132,
   "metadata": {
    "collapsed": false
   },
   "outputs": [
    {
     "data": {
      "text/plain": [
       "array([ -2.87409748e-14,  -2.75913358e-14,  -2.64416968e-14,\n",
       "        -2.52920578e-14,  -2.41424188e-14,  -2.29927798e-14,\n",
       "        -2.18431408e-14,  -2.06935018e-14,  -1.95438629e-14,\n",
       "        -1.83942239e-14,  -1.72445849e-14,  -1.60949459e-14,\n",
       "        -1.49453069e-14,  -1.37956679e-14,  -1.26460289e-14,\n",
       "        -1.14963899e-14,  -1.03467509e-14,  -9.19711193e-15,\n",
       "        -8.04747294e-15,  -6.89783395e-15,  -5.74819496e-15,\n",
       "        -4.59855597e-15,  -3.44891697e-15,  -2.29927798e-15,\n",
       "        -1.14963899e-15,  -0.00000000e+00,  -0.00000000e+00,\n",
       "        -0.00000000e+00,  -0.00000000e+00,  -0.00000000e+00,\n",
       "        -0.00000000e+00,  -0.00000000e+00,  -0.00000000e+00,\n",
       "        -0.00000000e+00,  -0.00000000e+00,  -0.00000000e+00,\n",
       "        -0.00000000e+00,  -0.00000000e+00,  -0.00000000e+00,\n",
       "        -0.00000000e+00,  -0.00000000e+00,  -0.00000000e+00,\n",
       "        -0.00000000e+00,  -0.00000000e+00,  -0.00000000e+00,\n",
       "        -0.00000000e+00,  -0.00000000e+00,  -0.00000000e+00,\n",
       "        -0.00000000e+00,  -0.00000000e+00,  -0.00000000e+00,\n",
       "        -0.00000000e+00,  -0.00000000e+00,  -0.00000000e+00,\n",
       "        -0.00000000e+00,  -0.00000000e+00,  -0.00000000e+00,\n",
       "        -0.00000000e+00,  -0.00000000e+00,  -0.00000000e+00,\n",
       "        -0.00000000e+00,  -0.00000000e+00,  -0.00000000e+00,\n",
       "        -0.00000000e+00,  -0.00000000e+00,  -0.00000000e+00,\n",
       "        -0.00000000e+00,  -0.00000000e+00,  -0.00000000e+00,\n",
       "        -0.00000000e+00,  -0.00000000e+00,  -0.00000000e+00,\n",
       "        -0.00000000e+00,  -0.00000000e+00,  -0.00000000e+00,\n",
       "        -0.00000000e+00,  -0.00000000e+00,  -0.00000000e+00,\n",
       "        -0.00000000e+00,  -0.00000000e+00,  -0.00000000e+00,\n",
       "        -0.00000000e+00,  -0.00000000e+00,  -0.00000000e+00,\n",
       "        -0.00000000e+00,  -0.00000000e+00,  -0.00000000e+00,\n",
       "        -0.00000000e+00,  -0.00000000e+00,  -0.00000000e+00,\n",
       "        -0.00000000e+00,  -0.00000000e+00,  -0.00000000e+00,\n",
       "        -0.00000000e+00,  -0.00000000e+00,  -0.00000000e+00,\n",
       "        -0.00000000e+00,  -0.00000000e+00,  -0.00000000e+00,\n",
       "        -0.00000000e+00,  -0.00000000e+00])"
      ]
     },
     "execution_count": 132,
     "metadata": {},
     "output_type": "execute_result"
    }
   ],
   "source": [
    "lel(np.arange(0,101))"
   ]
  },
  {
   "cell_type": "code",
   "execution_count": 157,
   "metadata": {
    "collapsed": false
   },
   "outputs": [
    {
     "data": {
      "text/plain": [
       "-5.39679320867777e-10"
      ]
     },
     "execution_count": 157,
     "metadata": {},
     "output_type": "execute_result"
    }
   ],
   "source": [
    "integrate.quad(lel, 0, 100)[0] / (rad_eff*integrate.quad(irf_co2, 0,100)[0])"
   ]
  },
  {
   "cell_type": "code",
   "execution_count": null,
   "metadata": {
    "collapsed": true
   },
   "outputs": [],
   "source": []
  }
 ],
 "metadata": {
  "kernelspec": {
   "display_name": "Python 2",
   "language": "python",
   "name": "python2"
  },
  "language_info": {
   "codemirror_mode": {
    "name": "ipython",
    "version": 2
   },
   "file_extension": ".py",
   "mimetype": "text/x-python",
   "name": "python",
   "nbconvert_exporter": "python",
   "pygments_lexer": "ipython2",
   "version": "2.7.11"
  }
 },
 "nbformat": 4,
 "nbformat_minor": 0
}
