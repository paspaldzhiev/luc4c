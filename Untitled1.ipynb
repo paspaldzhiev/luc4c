{
 "cells": [
  {
   "cell_type": "code",
   "execution_count": 5,
   "metadata": {
    "collapsed": true
   },
   "outputs": [],
   "source": [
    "import numpy as np\n",
    "import matplotlib.pyplot as plt\n",
    "from scipy import integrate"
   ]
  },
  {
   "cell_type": "code",
   "execution_count": 126,
   "metadata": {
    "collapsed": true
   },
   "outputs": [],
   "source": [
    "%matplotlib inline\n",
    "np.set_printoptions(suppress=True)"
   ]
  },
  {
   "cell_type": "code",
   "execution_count": 7,
   "metadata": {
    "collapsed": false
   },
   "outputs": [],
   "source": [
    "#implement incoming solar flux at top of atmosphere model\n",
    "\n",
    "def calc_delta(day):\n",
    "    return 23.45*np.sin(np.deg2rad(360*(284+day)/365.)) #return degrees\n",
    "\n",
    "def calc_omega(lat,delta):\n",
    "    return np.rad2deg(np.arccos(-np.tan(np.deg2rad(lat))*np.tan(np.deg2rad(delta)))) # return degrees\n",
    "\n",
    "\n",
    "nday_monthly_average = {1:17,\n",
    "                        2:47,\n",
    "                        3:75,\n",
    "                        4:105,\n",
    "                        5:135,\n",
    "                        6:162,\n",
    "                        7:198,\n",
    "                        8:228,\n",
    "                        9:258,\n",
    "                        10:288,\n",
    "                        11:318,\n",
    "                        12:344}\n",
    "\n",
    "def Rtoa(lat,day,sc=1367):\n",
    "    delta = calc_delta(day)\n",
    "    omega = calc_omega(lat,delta)\n",
    "    return (sc/np.pi) * (1+0.033 * np.cos(np.deg2rad((360*day)/365.))) * (np.cos(np.deg2rad(lat)) * np.cos(np.deg2rad(delta))\n",
    "                         * np.sin(np.deg2rad(omega)) +((np.pi*omega)/180)*np.sin(np.deg2rad(lat))*np.sin(np.deg2rad(delta)))"
   ]
  },
  {
   "cell_type": "code",
   "execution_count": 8,
   "metadata": {
    "collapsed": false
   },
   "outputs": [
    {
     "name": "stdout",
     "output_type": "stream",
     "text": [
      "[ 105.15801933  169.2768068   260.06121769  364.14416556  445.25678199\n",
      "  481.19945182  463.11906992  395.51227745  297.38610147  195.64275222\n",
      "  119.94360168   88.88791365]\n"
     ]
    },
    {
     "data": {
      "image/png": "[encoded data removed]",
      "text/plain": [
       "<matplotlib.figure.Figure at 0x76efef0>"
      ]
     },
     "metadata": {},
     "output_type": "display_data"
    }
   ],
   "source": [
    "#test Rtoa:\n",
    "\n",
    "test_Rtoa = Rtoa(lat=50,day=np.asarray(nday_monthly_average.values()))\n",
    "print test_Rtoa\n",
    "\n",
    "plt.plot(test_Rtoa)\n",
    "plt.show()\n",
    "\n",
    "#works!"
   ]
  },
  {
   "cell_type": "code",
   "execution_count": 137,
   "metadata": {
    "collapsed": false
   },
   "outputs": [],
   "source": [
    "#IRF of CO2, parameterised as per IPCC AR4. Used for calculating GWP\n",
    "#NOT CURRENTLY USED\n",
    "\n",
    "a0 = 0.217\n",
    "a1to3 = np.array([0.259, 0.338, 0.186])\n",
    "tau1to3 = np.array([172.9, 18.51, 1.186]) # years\n",
    "\n",
    "def irf_co2(t):\n",
    "    return a0 + np.sum(a1to3 * np.exp(-t/tau1to3)) * rad_eff * 0.000001 * 0.001"
   ]
  },
  {
   "cell_type": "code",
   "execution_count": 95,
   "metadata": {
    "collapsed": false,
    "scrolled": false
   },
   "outputs": [
    {
     "data": {
      "image/png": "[encoded data removed]",
      "text/plain": [
       "<matplotlib.figure.Figure at 0x7a2e208>"
      ]
     },
     "metadata": {},
     "output_type": "display_data"
    }
   ],
   "source": [
    "#test irf co2\n",
    "#NOT CURRENTLY USED\n",
    "\n",
    "co2 = np.empty(shape=100)\n",
    "\n",
    "for i in range(0,100):\n",
    "    co2[i] = irf_co2(i+1)\n",
    "\n",
    "plt.plot(co2)\n",
    "plt.show()\n",
    "\n",
    "#works!"
   ]
  },
  {
   "cell_type": "code",
   "execution_count": 133,
   "metadata": {
    "collapsed": false
   },
   "outputs": [
    {
     "name": "stdout",
     "output_type": "stream",
     "text": [
      "1.4e-14\n"
     ]
    },
    {
     "data": {
      "text/plain": [
       "array([ 0.00001225,  0.00001135,  0.00001083,  0.00001048,  0.00001021,\n",
       "        0.00000998,  0.00000977,  0.00000957,  0.00000939,  0.00000922,\n",
       "        0.00000905,  0.0000089 ,  0.00000875,  0.0000086 ,  0.00000847,\n",
       "        0.00000834,  0.00000821,  0.00000809,  0.00000798,  0.00000787,\n",
       "        0.00000777,  0.00000767,  0.00000758,  0.00000749,  0.0000074 ,\n",
       "        0.00000732,  0.00000724,  0.00000716,  0.00000709,  0.00000702,\n",
       "        0.00000696,  0.00000689,  0.00000683,  0.00000677,  0.00000671,\n",
       "        0.00000666,  0.00000661,  0.00000656,  0.00000651,  0.00000646,\n",
       "        0.00000642,  0.00000637,  0.00000633,  0.00000629,  0.00000625,\n",
       "        0.00000621,  0.00000617,  0.00000614,  0.0000061 ,  0.00000607,\n",
       "        0.00000604,  0.00000601,  0.00000598,  0.00000595,  0.00000592,\n",
       "        0.00000589,  0.00000586,  0.00000584,  0.00000581,  0.00000579,\n",
       "        0.00000576,  0.00000574,  0.00000571,  0.00000569,  0.00000567,\n",
       "        0.00000565,  0.00000563,  0.00000561,  0.00000558,  0.00000556,\n",
       "        0.00000554,  0.00000553,  0.00000551,  0.00000549,  0.00000547,\n",
       "        0.00000545,  0.00000543,  0.00000542,  0.0000054 ,  0.00000538,\n",
       "        0.00000537,  0.00000535,  0.00000534,  0.00000532,  0.0000053 ,\n",
       "        0.00000529,  0.00000527,  0.00000526,  0.00000524,  0.00000523,\n",
       "        0.00000521,  0.0000052 ,  0.00000519,  0.00000517,  0.00000516,\n",
       "        0.00000515,  0.00000513,  0.00000512,  0.00000511,  0.00000509])"
      ]
     },
     "execution_count": 133,
     "metadata": {},
     "output_type": "execute_result"
    }
   ],
   "source": [
    "print rad_eff * 0.000001 * 0.001 #1st to g/kg, then to kg\n",
    "co2 * rad_eff"
   ]
  },
  {
   "cell_type": "code",
   "execution_count": 136,
   "metadata": {
    "collapsed": false
   },
   "outputs": [
    {
     "data": {
      "text/plain": [
       "1.3999999999999999e-14"
      ]
     },
     "execution_count": 136,
     "metadata": {},
     "output_type": "execute_result"
    }
   ],
   "source": [
    "rad_eff * 0.000001 * 0.001"
   ]
  },
  {
   "cell_type": "code",
   "execution_count": 145,
   "metadata": {
    "collapsed": false
   },
   "outputs": [],
   "source": [
    "#test bright et al (2012) incl of c cycle and albedo dynamics in lca\n",
    "\n",
    "lat = 60\n",
    "delta_albedo = 0.44 - 0.13\n",
    "tau = np.array([25,30,35]) # high, medium, low productivity\n",
    "rotation_length = np.array([80,90,100]) # high, medium, low productivity\n",
    "       \n",
    "def decay(t,tau):\n",
    "    '''Linear decay as in paper. Works with both arrays and single values'''\n",
    "    try:\n",
    "        full = np.empty(shape = t.shape)\n",
    "        for i,each in enumerate(t):\n",
    "            if each < tau:\n",
    "                full[i] =  1-(each/float(tau))\n",
    "            elif each >= tau:\n",
    "                full[i] = 0\n",
    "        return full\n",
    "    except:\n",
    "        if t < tau:\n",
    "            return 1-(t/float(tau))\n",
    "        elif t >= tau:\n",
    "            return 0     \n",
    "\n",
    "kt = 0.45\n",
    "area = 1\n",
    "area_earth = 5.1E14\n",
    "\n",
    "rad_eff = 1.4E-5 #radiative efficiency of CO2. Used for calculating GWP NOT CURRENTLY USED"
   ]
  },
  {
   "cell_type": "code",
   "execution_count": 97,
   "metadata": {
    "collapsed": false
   },
   "outputs": [
    {
     "name": "stdout",
     "output_type": "stream",
     "text": [
      "[ 1.          0.96666667  0.93333333  0.9         0.86666667  0.83333333\n",
      "  0.8         0.76666667  0.73333333  0.7         0.66666667  0.63333333\n",
      "  0.6         0.56666667  0.53333333  0.5         0.46666667  0.43333333\n",
      "  0.4         0.36666667  0.33333333  0.3         0.26666667  0.23333333\n",
      "  0.2         0.16666667  0.13333333  0.1         0.06666667  0.03333333\n",
      "  0.          0.          0.          0.          0.          0.          0.\n",
      "  0.          0.          0.          0.          0.          0.          0.\n",
      "  0.          0.          0.          0.          0.          0.        ]\n"
     ]
    }
   ],
   "source": [
    "#test decay\n",
    "print decay(np.arange(0,50),tau)\n",
    "#works!"
   ]
  },
  {
   "cell_type": "code",
   "execution_count": 143,
   "metadata": {
    "collapsed": false
   },
   "outputs": [
    {
     "name": "stdout",
     "output_type": "stream",
     "text": [
      "-14.6578971417\n"
     ]
    }
   ],
   "source": [
    "#local instantenatous radiative forcing; -14.7 w/m2 in paper\n",
    "local_inst = np.sum(-Rtoa(lat, np.asarray(nday_monthly_average.values())))/12  * kt**2 * delta_albedo #w/m2\n",
    "print local_inst\n",
    "#works!"
   ]
  },
  {
   "cell_type": "code",
   "execution_count": 141,
   "metadata": {
    "collapsed": false
   },
   "outputs": [],
   "source": [
    "#calculate global radiative forcing profile\n",
    "\n",
    "def RFglobal_profile(t,tau):\n",
    "    '''function that we can integrate for calculating GWP'''\n",
    "    return local_inst * decay(t, tau) * (area/area_earth)"
   ]
  },
  {
   "cell_type": "code",
   "execution_count": 138,
   "metadata": {
    "collapsed": false
   },
   "outputs": [],
   "source": [
    "#calculate gwp albedo for TH 100\n",
    "#quad returns 2 values, 1st is integrated result\n",
    "\n",
    "integrate_albedo = np.empty(shape=tau.shape)\n",
    "\n",
    "for i,each in enumerate(tau):\n",
    "    integrate_albedo[i] = integrate.quad(RFglobal_profile, 0, 100, args = (each,))[0]\n",
    "\n",
    "integrate_co2 = integrate.quad(irf_co2, 0, 100)[0] * rad_eff # multimply IRF by radiative efficiency to convert to W/m2\n",
    "agwp_co2_100 = 8.69 * 10**-14 # W m^-2 year (kg CO2)-1"
   ]
  },
  {
   "cell_type": "code",
   "execution_count": 146,
   "metadata": {
    "collapsed": false
   },
   "outputs": [
    {
     "name": "stdout",
     "output_type": "stream",
     "text": [
      "[-0. -0. -0.]\n"
     ]
    }
   ],
   "source": [
    "print integrate_albedo/integrate_co2"
   ]
  },
  {
   "cell_type": "code",
   "execution_count": 149,
   "metadata": {
    "collapsed": false
   },
   "outputs": [
    {
     "data": {
      "text/plain": [
       "array([-0., -0., -0.])"
      ]
     },
     "execution_count": 149,
     "metadata": {},
     "output_type": "execute_result"
    }
   ],
   "source": [
    "integrate_albedo\n"
   ]
  },
  {
   "cell_type": "code",
   "execution_count": 147,
   "metadata": {
    "collapsed": false
   },
   "outputs": [
    {
     "name": "stdout",
     "output_type": "stream",
     "text": [
      "[-4157.36502283 -4965.40968807 -5789.08989795]\n"
     ]
    }
   ],
   "source": [
    "gwp = np.empty(shape=integrate_albedo.shape)\n",
    "\n",
    "for i in range(0,integrate_albedo.shape[0]):\n",
    "    gwp[i] = integrate_albedo[i]/agwp_co2_100\n",
    "\n",
    "print gwp * 1000 # kg CO2eq m-2 * 1000 g kg-1 = g CO2 \n",
    "# -3992, -4824, -5656 from paper Table 5 row \"clear cut area\""
   ]
  },
  {
   "cell_type": "code",
   "execution_count": 128,
   "metadata": {
    "collapsed": false
   },
   "outputs": [
    {
     "name": "stdout",
     "output_type": "stream",
     "text": [
      "[-51.96706279 -62.0676211  -72.36362372]\n"
     ]
    }
   ],
   "source": [
    "# clear cut area, normalised to functional unit. From paper Table4, units are m2 MJ-1. I assume value from Table 5 is a mistake.\n",
    "clear_cut = 1.25E-2\n",
    "\n",
    "print clear_cut*gwp*1000 # m2 MJ-1 * kgCO2eq m-2 * 1000 g kg-1 = gCO2eq MJ-1 ;column 1 under each GWP100 productivity case\n",
    "# -50, -60, -71 from paper Table 5 row \"clear cut area\" column 2 under each GWP100 productivity case"
   ]
  },
  {
   "cell_type": "markdown",
   "metadata": {},
   "source": [
    "# cherubini 2012"
   ]
  },
  {
   "cell_type": "code",
   "execution_count": 128,
   "metadata": {
    "collapsed": true
   },
   "outputs": [],
   "source": [
    "def decay_1st(t, tau):\n",
    "    '''1st order decay model'''\n",
    "    return np.exp(-tau*t)\n",
    "\n",
    "toa = 229\n",
    "fatm = 0.36\n",
    "delta_a = 0.15\n",
    "local_rf = -6.9\n",
    "rotation = 100\n",
    "eff_albedo = 1.94"
   ]
  },
  {
   "cell_type": "code",
   "execution_count": 131,
   "metadata": {
    "collapsed": false
   },
   "outputs": [
    {
     "name": "stdout",
     "output_type": "stream",
     "text": [
      "[ -6.90000000e+000  -1.42219600e-008  -2.93136444e-017  -6.04199243e-026\n",
      "  -1.24534746e-034  -2.56685242e-043  -5.29067717e-052  -1.09048984e-060\n",
      "  -2.24766709e-069  -4.63278716e-078  -9.54888603e-087  -1.96817210e-095\n",
      "  -4.05670506e-104  -8.36149233e-113  -1.72343202e-121  -3.55225815e-130\n",
      "  -7.32174976e-139  -1.50912510e-147  -3.11053868e-156  -6.41129806e-165\n",
      "  -1.32146702e-173  -2.72374654e-182  -5.61406005e-191  -1.15714402e-199\n",
      "  -2.38505159e-208  -4.91595772e-217  -1.01325441e-225  -2.08847299e-234\n",
      "  -4.30466367e-243  -8.87257311e-252  -1.82877362e-260  -3.76938337e-269\n",
      "  -7.76927820e-278  -1.60136759e-286  -3.30066461e-295  -6.80317682e-304\n",
      "  -1.40223925e-312  -2.90016534e-321  -0.00000000e+000  -0.00000000e+000\n",
      "  -0.00000000e+000  -0.00000000e+000  -0.00000000e+000  -0.00000000e+000\n",
      "  -0.00000000e+000  -0.00000000e+000  -0.00000000e+000  -0.00000000e+000\n",
      "  -0.00000000e+000  -0.00000000e+000  -0.00000000e+000  -0.00000000e+000\n",
      "  -0.00000000e+000  -0.00000000e+000  -0.00000000e+000  -0.00000000e+000\n",
      "  -0.00000000e+000  -0.00000000e+000  -0.00000000e+000  -0.00000000e+000\n",
      "  -0.00000000e+000  -0.00000000e+000  -0.00000000e+000  -0.00000000e+000\n",
      "  -0.00000000e+000  -0.00000000e+000  -0.00000000e+000  -0.00000000e+000\n",
      "  -0.00000000e+000  -0.00000000e+000  -0.00000000e+000  -0.00000000e+000\n",
      "  -0.00000000e+000  -0.00000000e+000  -0.00000000e+000  -0.00000000e+000\n",
      "  -0.00000000e+000  -0.00000000e+000  -0.00000000e+000  -0.00000000e+000\n",
      "  -0.00000000e+000  -0.00000000e+000  -0.00000000e+000  -0.00000000e+000\n",
      "  -0.00000000e+000  -0.00000000e+000  -0.00000000e+000  -0.00000000e+000\n",
      "  -0.00000000e+000  -0.00000000e+000  -0.00000000e+000  -0.00000000e+000\n",
      "  -0.00000000e+000  -0.00000000e+000  -0.00000000e+000  -0.00000000e+000\n",
      "  -0.00000000e+000  -0.00000000e+000  -0.00000000e+000  -0.00000000e+000\n",
      "  -0.00000000e+000]\n"
     ]
    }
   ],
   "source": [
    "wat = decay_1st(time, 1/5.*rotation) * local_rf#delta_a * -toa * fatm\n",
    "print wat\n",
    "\n",
    "def watf(t):\n",
    "    return eff_albedo * decay_1st(t, 1/5.*rotation) * local_rf * area/area_earth#delta_a * -toa * fatm\n",
    "    #return decay(t,rotation) * delta_a * fatm * -toa"
   ]
  },
  {
   "cell_type": "code",
   "execution_count": 126,
   "metadata": {
    "collapsed": true
   },
   "outputs": [],
   "source": [
    "plt.plot(wat)\n",
    "plt.show()"
   ]
  },
  {
   "cell_type": "code",
   "execution_count": 132,
   "metadata": {
    "collapsed": false
   },
   "outputs": [
    {
     "data": {
      "text/plain": [
       "-0.010068748658859164"
      ]
     },
     "execution_count": 132,
     "metadata": {},
     "output_type": "execute_result"
    }
   ],
   "source": [
    "integrate.quad(watf,0,100)[0]/agwp_co2_100"
   ]
  },
  {
   "cell_type": "code",
   "execution_count": 145,
   "metadata": {
    "collapsed": false
   },
   "outputs": [
    {
     "data": {
      "text/plain": [
       "-1.9931649229593358e-06"
      ]
     },
     "execution_count": 145,
     "metadata": {},
     "output_type": "execute_result"
    }
   ],
   "source": [
    "integrate.trapz(eff_albedo * decay_1st(time,rotation) * -toa * delta_a * fatm * (1000*37*3.67)**-1 * area/area_earth) / agwp_co2_100"
   ]
  }
 ],
 "metadata": {
  "kernelspec": {
   "display_name": "Python 2",
   "language": "python",
   "name": "python2"
  },
  "language_info": {
   "codemirror_mode": {
    "name": "ipython",
    "version": 2
   },
   "file_extension": ".py",
   "mimetype": "text/x-python",
   "name": "python",
   "nbconvert_exporter": "python",
   "pygments_lexer": "ipython2",
   "version": "2.7.11"
  }
 },
 "nbformat": 4,
 "nbformat_minor": 0
}
